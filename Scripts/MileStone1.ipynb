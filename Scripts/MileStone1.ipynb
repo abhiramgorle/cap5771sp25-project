{
 "cells": [
  {
   "cell_type": "code",
   "execution_count": null,
   "id": "4b9ddab6-408e-44ea-bc89-f90a1393e21a",
   "metadata": {},
   "outputs": [],
   "source": [
    "import pandas as pd\n",
    "import numpy as np\n",
    "import matplotlib.pyplot as plt\n",
    "import seaborn as sns\n",
    "from scipy import stats\n",
    "from datetime import datetime"
   ]
  },
  {
   "cell_type": "code",
   "execution_count": null,
   "id": "7f3985a8-9c8c-441e-ad67-7e301d00ddd1",
   "metadata": {},
   "outputs": [],
   "source": [
    "drivers_df = pd.read_csv('Data/drivers.csv')\n",
    "races_df = pd.read_csv('Data/races.csv')\n",
    "lap_times_df = pd.read_csv('Data/lap_times.csv')\n",
    "pit_stops_df = pd.read_csv('Data/pit_stops.csv')\n",
    "results_df = pd.read_csv('Data/results.csv')\n",
    "constructors_df = pd.read_csv('Data/constructors.csv')"
   ]
  },
  {
   "cell_type": "code",
   "execution_count": null,
   "id": "b9dc7f00-5cce-4e84-8dab-b34802b98411",
   "metadata": {},
   "outputs": [],
   "source": [
    "races_df['date'] = pd.to_datetime(races_df['date'])\n",
    "drivers_df['dob'] = pd.to_datetime(drivers_df['dob'])"
   ]
  },
  {
   "cell_type": "code",
   "execution_count": null,
   "id": "95c7f421-c24e-4ce4-a944-af3de65409bc",
   "metadata": {},
   "outputs": [],
   "source": [
    "#for numerical data, we are using median \n",
    "numerical_columns = lap_times_df.select_dtypes(include=[np.number]).columns\n",
    "lap_times_df[numerical_columns] = lap_times_df[numerical_columns].fillna(lap_times_df[numerical_columns].median())\n",
    "        \n",
    "# For categorical columns, fill with mode\n",
    "categorical_columns = drivers_df.select_dtypes(include=['object']).columns\n",
    "drivers_df[categorical_columns] = drivers_df[categorical_columns].fillna(drivers_df[categorical_columns].mode().iloc[0])"
   ]
  },
  {
   "cell_type": "code",
   "execution_count": null,
   "id": "dcbef786-f34a-4c6e-a189-5abc34fb31d6",
   "metadata": {},
   "outputs": [],
   "source": [
    "races_df['year'] = pd.to_datetime(races_df['date']).dt.year\n",
    "avg_lap_times = lap_times_df.groupby(['raceId', 'driverId'])['milliseconds'].mean().reset_index()"
   ]
  },
  {
   "cell_type": "code",
   "execution_count": null,
   "id": "590af2c6-b031-4147-a7ee-ba98ad200a62",
   "metadata": {},
   "outputs": [],
   "source": [
    "# Lap time distribution over time\n",
    "plt.figure(figsize=(12, 8))\n",
    "sns.boxplot(data=lap_times_df, y='milliseconds')\n",
    "plt.title('Distribution of Lap Times')\n",
    "plt.ylabel('Time (milliseconds)')"
   ]
  },
  {
   "cell_type": "code",
   "execution_count": null,
   "id": "25650a09-6c41-4183-8f0b-121a742bdd89",
   "metadata": {},
   "outputs": [],
   "source": [
    " # Lap time trends over years\n",
    "merged_data = pd.merge(lap_times_df, races_df[['raceId', 'year']], on='raceId')\n",
    "yearly_avg = merged_data.groupby('year')['milliseconds'].mean().reset_index()\n",
    "        \n",
    "plt.figure(figsize=(12, 6))\n",
    "plt.plot(yearly_avg['year'], yearly_avg['milliseconds']/1000, marker='o')\n",
    "plt.title('Average Lap Times by Year')\n",
    "plt.xlabel('Year')\n",
    "plt.ylabel('Average Lap Time (seconds)')\n",
    "plt.grid(True)"
   ]
  },
  {
   "cell_type": "code",
   "execution_count": null,
   "id": "fc045495-0d33-4291-949f-8c2397a5d54b",
   "metadata": {},
   "outputs": [],
   "source": [
    "# Position changes throughout races\n",
    "position_changes = lap_times_df.groupby('driverId')['position'].agg(['mean', 'std']).reset_index()\n",
    "plt.figure(figsize=(12, 6))\n",
    "plt.scatter(position_changes['mean'], position_changes['std'])\n",
    "plt.title('Position Consistency Analysis')\n",
    "plt.xlabel('Average Position')\n",
    "plt.ylabel('Position Variation (std)')"
   ]
  },
  {
   "cell_type": "code",
   "execution_count": null,
   "id": "1d8cf706-b4f6-4f0e-a079-c447481ae5c2",
   "metadata": {},
   "outputs": [],
   "source": [
    " # Driver nationality distribution\n",
    "plt.figure(figsize=(12, 6))\n",
    "drivers_df['nationality'].value_counts().head(10).plot(kind='bar')\n",
    "plt.title('Top 10 Driver Nationalities')\n",
    "plt.xlabel('Nationality')\n",
    "plt.ylabel('Count')\n",
    "plt.xticks(rotation=45)\n",
    "plt.tight_layout()"
   ]
  },
  {
   "cell_type": "code",
   "execution_count": null,
   "id": "317fd14d-9b43-496e-8d34-66c6ddc50810",
   "metadata": {},
   "outputs": [],
   "source": [
    "df = pd.read_csv(\"Data/races.csv\")\n",
    "races_by_year = df.groupby('year').size()\n",
    "plt.figure(figsize=(12, 6))\n",
    "races_by_year.plot(kind='line', marker='o')\n",
    "plt.title('Number of Races per Year')\n",
    "plt.xlabel('Year')\n",
    "plt.ylabel('Number of Races')\n",
    "plt.grid(True)"
   ]
  },
  {
   "cell_type": "code",
   "execution_count": null,
   "id": "d3291bb3-18f5-4b18-a12c-9ee99efd677d",
   "metadata": {},
   "outputs": [],
   "source": [
    "#the top constructors by total points so far\n",
    "df1 = pd.read_csv(\"Data/results.csv\")\n",
    "df2 = pd.read_csv(\"Data/constructors.csv\")\n",
    "results_df = pd.merge(df1,df2,on='constructorId')\n",
    "constructor_points = results_df.groupby('name')['points'].sum().sort_values(ascending=False).head(10)\n",
    "plt.figure(figsize=(12, 6))\n",
    "constructor_points.plot(kind='bar')\n",
    "plt.title('Top 10 Constructors by Total Points')\n",
    "plt.xlabel('Constructor')\n",
    "plt.ylabel('Total Points')\n",
    "plt.xticks(rotation=45)\n",
    "plt.tight_layout()"
   ]
  },
  {
   "cell_type": "code",
   "execution_count": null,
   "id": "fe582e7a-0f39-4c89-861e-76113bda18f1",
   "metadata": {},
   "outputs": [],
   "source": [
    "# Correlation between lap times and position\n",
    "correlation_data = lap_times_df[['milliseconds', 'position']].copy()\n",
    "plt.figure(figsize=(8, 6))\n",
    "sns.heatmap(correlation_data.corr(), annot=True, cmap='coolwarm')\n",
    "plt.title('Correlation between Lap Times and Position')"
   ]
  },
  {
   "cell_type": "code",
   "execution_count": null,
   "id": "b7ec37db-06bd-424e-b669-89681bc8848a",
   "metadata": {},
   "outputs": [],
   "source": [
    "# Merge lap times with races and drivers\n",
    "merged_lap_data = pd.merge(pd.merge(lap_times_df, drivers_df, on='driverId'),races_df[['raceId', 'year', 'name']], on='raceId')\n",
    "# Calculate yearly performance metrics\n",
    "yearly_stats = merged_lap_data.groupby('year').agg({'milliseconds': ['mean', 'std', 'count'],'position': 'mean'}).reset_index()\n",
    "        \n",
    "yearly_stats"
   ]
  },
  {
   "cell_type": "code",
   "execution_count": null,
   "id": "8433563b-6a36-4057-a03c-5b091e7d7a32",
   "metadata": {},
   "outputs": [],
   "source": [
    "report = {\n",
    "            'total_races': len(races_df),\n",
    "            'total_drivers': len(drivers_df),\n",
    "            'avg_lap_time': lap_times_df['milliseconds'].mean() / 1000,  # in seconds\n",
    "            'fastest_lap': lap_times_df['milliseconds'].min() / 1000,  # in seconds\n",
    "            'total_laps_recorded': len(lap_times_df),\n",
    "            'years_covered': f\"{races_df['year'].min()} - {races_df['year'].max()}\"\n",
    "        }\n",
    "report"
   ]
  },
  {
   "cell_type": "code",
   "execution_count": null,
   "id": "90ff5621-0983-4d9e-acf1-e110196068e3",
   "metadata": {},
   "outputs": [],
   "source": []
  }
 ],
 "metadata": {
  "kernelspec": {
   "display_name": "Python 3 (ipykernel)",
   "language": "python",
   "name": "python3"
  },
  "language_info": {
   "codemirror_mode": {
    "name": "ipython",
    "version": 3
   },
   "file_extension": ".py",
   "mimetype": "text/x-python",
   "name": "python",
   "nbconvert_exporter": "python",
   "pygments_lexer": "ipython3",
   "version": "3.12.4"
  }
 },
 "nbformat": 4,
 "nbformat_minor": 5
}
