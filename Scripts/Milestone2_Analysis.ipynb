{
 "cells": [
  {
   "cell_type": "markdown",
   "metadata": {},
   "source": [
    "# Milestone 2 - Feature Engineering, Selection & Modeling\n",
    "\n",
    "This notebook analyzes the impact of Formula One race victories on sponsor stock prices using event study methodology and machine learning models."
   ]
  },
  {
   "cell_type": "code",
   "execution_count": null,
   "metadata": {},
   "outputs": [],
   "source": [
    "import fastf1\n",
    "import yfinance as yf\n",
    "import pandas as pd\n",
    "import datetime\n",
    "import matplotlib.pyplot as plt\n",
    "import seaborn as sns\n",
    "from sklearn.model_selection import train_test_split\n",
    "from sklearn.ensemble import RandomForestClassifier\n",
    "from sklearn.metrics import classification_report"
   ]
  },
  {
   "cell_type": "markdown",
   "metadata": {},
   "source": [
    "## Step 1: Get Race Winner Data"
   ]
  },
  {
   "cell_type": "code",
   "execution_count": null,
   "metadata": {},
   "outputs": [],
   "source": [
    "def get_race_winner_data(year):\n",
    "    fastf1.Cache.enable_cache('f1_cache')\n",
    "    schedule = fastf1.get_event_schedule(year)\n",
    "    races = []\n",
    "    \n",
    "    for _, race in schedule.iterrows():\n",
    "        try:\n",
    "            event = fastf1.get_session(year, race['EventName'], 'R')\n",
    "            session = event.load()\n",
    "            winner = session.results.iloc[0]\n",
    "            races.append({\n",
    "                'date': race['EventDate'].date(),\n",
    "                'race_name': race['EventName'],\n",
    "                'winner': winner.FullName,\n",
    "                'team': winner.TeamName\n",
    "            })\n",
    "        except Exception as e:\n",
    "            print(f\"Failed to load {race['EventName']}: {e}\")\n",
    "    return pd.DataFrame(races)\n",
    "\n",
    "# Example for 2023\n",
    "race_df = get_race_winner_data(2023)\n",
    "race_df.head()"
   ]
  },
  {
   "cell_type": "markdown",
   "metadata": {},
   "source": [
    "## Step 2: Get Sponsor Stock Data"
   ]
  },
  {
   "cell_type": "code",
   "execution_count": null,
   "metadata": {},
   "outputs": [],
   "source": [
    "def get_stock_data(ticker, start, end):\n",
    "    stock = yf.download(ticker, start=start, end=end)\n",
    "    stock['Return'] = stock['Adj Close'].pct_change()\n",
    "    return stock[['Adj Close', 'Return']]"
   ]
  },
  {
   "cell_type": "markdown",
   "metadata": {},
   "source": [
    "## Step 3: Join Race and Stock Data + Engineer Features"
   ]
  },
  {
   "cell_type": "code",
   "execution_count": null,
   "metadata": {},
   "outputs": [],
   "source": [
    "def get_stock_window(race_date, ticker):\n",
    "    start = race_date - datetime.timedelta(days=7)\n",
    "    end = race_date + datetime.timedelta(days=7)\n",
    "    return get_stock_data(ticker, start, end)\n",
    "\n",
    "def engineer_features(race_df, sponsor_ticker):\n",
    "    data = []\n",
    "    for _, row in race_df.iterrows():\n",
    "        stock = get_stock_window(row['date'], sponsor_ticker)\n",
    "        event_day = row['date']\n",
    "        try:\n",
    "            before = stock.loc[stock.index < event_day].iloc[-1]['Adj Close']\n",
    "            after = stock.loc[stock.index > event_day].iloc[0]['Adj Close']\n",
    "            pct_change = (after - before) / before\n",
    "        except:\n",
    "            pct_change = None\n",
    "\n",
    "        data.append({\n",
    "            **row,\n",
    "            'price_change_pct': pct_change,\n",
    "        })\n",
    "    return pd.DataFrame(data)\n",
    "\n",
    "feature_df = engineer_features(race_df, \"SHEL\")\n",
    "feature_df.head()"
   ]
  },
  {
   "cell_type": "markdown",
   "metadata": {},
   "source": [
    "## Step 4: Feature Selection with Correlation"
   ]
  },
  {
   "cell_type": "code",
   "execution_count": null,
   "metadata": {},
   "outputs": [],
   "source": [
    "corr_matrix = feature_df.drop(columns=['date', 'race_name', 'winner', 'team']).corr()\n",
    "sns.heatmap(corr_matrix, annot=True)\n",
    "plt.show()"
   ]
  },
  {
   "cell_type": "markdown",
   "metadata": {},
   "source": [
    "## Step 5: Data Modeling with Random Forest"
   ]
  },
  {
   "cell_type": "code",
   "execution_count": null,
   "metadata": {},
   "outputs": [],
   "source": [
    "feature_df['label'] = (feature_df['price_change_pct'] > 0).astype(int)\n",
    "X = feature_df.drop(columns=['date', 'race_name', 'winner', 'team', 'price_change_pct', 'label'])\n",
    "X = pd.get_dummies(X, drop_first=True)\n",
    "y = feature_df['label']\n",
    "\n",
    "X_train, X_test, y_train, y_test = train_test_split(X, y, test_size=0.3, random_state=42)\n",
    "\n",
    "model = RandomForestClassifier()\n",
    "model.fit(X_train, y_train)\n",
    "y_pred = model.predict(X_test)\n",
    "\n",
    "print(classification_report(y_test, y_pred))"
   ]
  }
 ],
 "metadata": {
  "kernelspec": {
   "display_name": ".venv",
   "language": "python",
   "name": "python3"
  },
  "language_info": {
   "codemirror_mode": {
    "name": "ipython",
    "version": 3
   },
   "file_extension": ".py",
   "mimetype": "text/x-python",
   "name": "python",
   "nbconvert_exporter": "python",
   "pygments_lexer": "ipython3",
   "version": "3.9.6"
  }
 },
 "nbformat": 4,
 "nbformat_minor": 5
}
