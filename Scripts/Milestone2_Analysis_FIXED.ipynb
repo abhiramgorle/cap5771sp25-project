{
 "cells": [
  {
   "cell_type": "markdown",
   "id": "c740d7f3",
   "metadata": {},
   "source": [
    "# Milestone 2 - Feature Engineering, Selection & Modeling\n",
    "\n",
    "This notebook analyzes the impact of Formula One race victories on sponsor stock prices using event study methodology and machine learning models."
   ]
  },
  {
   "cell_type": "code",
   "execution_count": null,
   "id": "4dada2d9",
   "metadata": {},
   "outputs": [],
   "source": [
    "import fastf1\n",
    "import yfinance as yf\n",
    "import pandas as pd\n",
    "import datetime\n",
    "import matplotlib.pyplot as plt\n",
    "import seaborn as sns\n",
    "from sklearn.model_selection import train_test_split\n",
    "from sklearn.ensemble import RandomForestClassifier\n",
    "from sklearn.metrics import classification_report"
   ]
  },
  {
   "cell_type": "markdown",
   "id": "06422512",
   "metadata": {},
   "source": [
    "## Step 1: Get Race Winner Data"
   ]
  },
  {
   "cell_type": "code",
   "execution_count": null,
   "id": "5bf8822f",
   "metadata": {},
   "outputs": [],
   "source": [
    "def get_race_winner_data(year):\n",
    "    fastf1.Cache.enable_cache('f1_cache')\n",
    "    schedule = fastf1.get_event_schedule(year)\n",
    "    races = []\n",
    "\n",
    "    for _, race in schedule.iterrows():\n",
    "        try:\n",
    "            session = fastf1.get_session(year, race['EventName'], 'R')\n",
    "            session.load()\n",
    "            if session.results is not None:\n",
    "                winner = session.results.iloc[0]\n",
    "                races.append({\n",
    "                    'date': session.date.date(),\n",
    "                    'race_name': race['EventName'],\n",
    "                    'winner': winner.FullName,\n",
    "                    'team': winner.TeamName\n",
    "                })\n",
    "            else:\n",
    "                print(f\"No results for {race['EventName']}\")\n",
    "        except Exception as e:\n",
    "            print(f\"Failed to load {race['EventName']}: {e}\")\n",
    "\n",
    "    return pd.DataFrame(races)\n",
    "\n",
    "# Example for year 2023\n",
    "race_df = get_race_winner_data(2023)\n",
    "race_df.head()"
   ]
  },
  {
   "cell_type": "markdown",
   "id": "97d38e3e",
   "metadata": {},
   "source": [
    "## Step 2: Get Sponsor Stock Data"
   ]
  },
  {
   "cell_type": "code",
   "execution_count": null,
   "id": "2dc79ead",
   "metadata": {},
   "outputs": [],
   "source": [
    "from alpha_vantage.timeseries import TimeSeries\n",
    "\n",
    "# Replace with your actual Alpha Vantage API key\n",
    "ALPHA_VANTAGE_API_KEY = '0GXUK17CQSZWQU1M'\n",
    "\n",
    "ts = TimeSeries(key=ALPHA_VANTAGE_API_KEY, output_format='pandas')\n",
    "\n",
    "def get_stock_data(ticker, start, end):\n",
    "    try:\n",
    "        data, meta = ts.get_daily_adjusted(symbol=ticker, outputsize='full')\n",
    "        data.index = pd.to_datetime(data.index)\n",
    "        data = data.sort_index()\n",
    "        data = data.loc[(data.index >= pd.to_datetime(start)) & (data.index <= pd.to_datetime(end))]\n",
    "        data['Return'] = data['5. adjusted close'].pct_change()\n",
    "        return data[['5. adjusted close', 'Return']].rename(columns={'5. adjusted close': 'Adj Close'})\n",
    "    except Exception as e:\n",
    "        print(f\"[!] Failed to fetch stock data for {ticker}: {e}\")\n",
    "        return pd.DataFrame(columns=['Adj Close', 'Return'])\n"
   ]
  },
  {
   "cell_type": "markdown",
   "id": "23fefd5d",
   "metadata": {},
   "source": [
    "## Step 3: Join Race and Stock Data + Engineer Features"
   ]
  },
  {
   "cell_type": "code",
   "execution_count": null,
   "id": "9a938b23",
   "metadata": {},
   "outputs": [],
   "source": [
    "def get_stock_window(race_date, ticker):\n",
    "    start = race_date - datetime.timedelta(days=7)\n",
    "    end = race_date + datetime.timedelta(days=7)\n",
    "    return get_stock_data(ticker, start, end)\n",
    "\n",
    "def engineer_features(race_df, sponsor_ticker):\n",
    "    data = []\n",
    "    stock_cache = {}  # Cache to avoid repeated downloads\n",
    "\n",
    "    for _, row in race_df.iterrows():\n",
    "        race_date = row['date']\n",
    "        cache_key = (sponsor_ticker, race_date)\n",
    "\n",
    "        if cache_key in stock_cache:\n",
    "            stock = stock_cache[cache_key]\n",
    "        else:\n",
    "            stock = get_stock_window(race_date, sponsor_ticker)\n",
    "            stock_cache[cache_key] = stock\n",
    "\n",
    "        if stock.empty:\n",
    "            print(f\"[!] No stock data for race on {race_date}\")\n",
    "            continue\n",
    "\n",
    "        try:\n",
    "            before = stock.loc[stock.index < race_date].iloc[-1]['Adj Close']\n",
    "            after = stock.loc[stock.index > race_date].iloc[0]['Adj Close']\n",
    "            pct_change = (after - before) / before\n",
    "        except Exception as e:\n",
    "            print(f\"[!] Error processing stock data for {race_date}: {e}\")\n",
    "            pct_change = None\n",
    "\n",
    "        data.append({\n",
    "            **row,\n",
    "            'price_change_pct': pct_change,\n",
    "        })\n",
    "\n",
    "    return pd.DataFrame(data)\n",
    "\n",
    "\n",
    "\n",
    "feature_df = engineer_features(race_df, \"SHEL\")  # Replace with actual sponsor ticker\n",
    "feature_df.head()"
   ]
  },
  {
   "cell_type": "markdown",
   "id": "5e2171a0",
   "metadata": {},
   "source": [
    "## Step 4: Feature Selection with Correlation"
   ]
  },
  {
   "cell_type": "code",
   "execution_count": null,
   "id": "d5d16a3c",
   "metadata": {},
   "outputs": [],
   "source": [
    "corr_matrix = feature_df.drop(columns=['date', 'race_name', 'winner', 'team']).corr()\n",
    "sns.heatmap(corr_matrix, annot=True)\n",
    "plt.show()"
   ]
  },
  {
   "cell_type": "markdown",
   "id": "b15a141b",
   "metadata": {},
   "source": [
    "## Step 5: Data Modeling with Random Forest"
   ]
  },
  {
   "cell_type": "code",
   "execution_count": null,
   "id": "e01abdcc",
   "metadata": {},
   "outputs": [],
   "source": [
    "feature_df['label'] = (feature_df['price_change_pct'] > 0).astype(int)\n",
    "X = feature_df.drop(columns=['date', 'race_name', 'winner', 'team', 'price_change_pct', 'label'])\n",
    "X = pd.get_dummies(X, drop_first=True)\n",
    "y = feature_df['label']\n",
    "\n",
    "X_train, X_test, y_train, y_test = train_test_split(X, y, test_size=0.3, random_state=42)\n",
    "\n",
    "model = RandomForestClassifier()\n",
    "model.fit(X_train, y_train)\n",
    "y_pred = model.predict(X_test)\n",
    "\n",
    "print(classification_report(y_test, y_pred))"
   ]
  }
 ],
 "metadata": {
  "kernelspec": {
   "display_name": ".venv",
   "language": "python",
   "name": "python3"
  },
  "language_info": {
   "codemirror_mode": {
    "name": "ipython",
    "version": 3
   },
   "file_extension": ".py",
   "mimetype": "text/x-python",
   "name": "python",
   "nbconvert_exporter": "python",
   "pygments_lexer": "ipython3",
   "version": "3.9.6"
  }
 },
 "nbformat": 4,
 "nbformat_minor": 5
}
