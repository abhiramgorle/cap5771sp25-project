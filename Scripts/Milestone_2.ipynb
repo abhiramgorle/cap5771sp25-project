{
 "cells": [
  {
   "cell_type": "code",
   "execution_count": 2,
   "metadata": {},
   "outputs": [
    {
     "name": "stderr",
     "output_type": "stream",
     "text": [
      "/Users/du.gorle/Documents/IDS/cap5771sp25-project/.venv/lib/python3.9/site-packages/urllib3/__init__.py:35: NotOpenSSLWarning: urllib3 v2 only supports OpenSSL 1.1.1+, currently the 'ssl' module is compiled with 'LibreSSL 2.8.3'. See: https://github.com/urllib3/urllib3/issues/3020\n",
      "  warnings.warn(\n"
     ]
    }
   ],
   "source": [
    "import pandas as pd\n",
    "import numpy as np\n",
    "import matplotlib.pyplot as plt\n",
    "import seaborn as sns\n",
    "import fastf1\n",
    "import yfinance as yf\n",
    "from datetime import datetime, timedelta\n",
    "import statsmodels.api as sm\n",
    "from sklearn.model_selection import train_test_split, TimeSeriesSplit\n",
    "from sklearn.ensemble import RandomForestRegressor\n",
    "from sklearn.linear_model import LinearRegression, Ridge, Lasso\n",
    "from sklearn.metrics import mean_squared_error, mean_absolute_error, r2_score\n",
    "from sklearn.feature_selection import SelectKBest, f_regression\n",
    "from sklearn.preprocessing import StandardScaler\n",
    "import warnings\n",
    "warnings.filterwarnings('ignore')\n",
    "\n",
    "# Enable FastF1 cache\n",
    "fastf1.Cache.enable_cache('f1_cache')"
   ]
  },
  {
   "cell_type": "code",
   "execution_count": 28,
   "metadata": {},
   "outputs": [
    {
     "name": "stderr",
     "output_type": "stream",
     "text": [
      "[*********************100%***********************]  1 of 1 completed\n",
      "[*********************100%***********************]  1 of 1 completed\n",
      "\n",
      "1 Failed download:\n",
      "['DMLRY']: YFTzMissingError('possibly delisted; no timezone found')\n",
      "[*********************100%***********************]  1 of 1 completed\n"
     ]
    },
    {
     "name": "stdout",
     "output_type": "stream",
     "text": [
      "Ferrari stock data preview:\n",
      "Price           Close       High        Low       Open   Volume\n",
      "Ticker           RACE       RACE       RACE       RACE     RACE\n",
      "Date                                                           \n",
      "2016-01-04  44.159557  44.550929  43.246362  44.066375  2507000\n",
      "2016-01-05  45.184574  45.408212  44.215467  45.287073  1934400\n",
      "2016-01-06  43.861374  44.597523  43.404778  44.495021  2554900\n",
      "2016-01-07  43.470005  43.870693  43.013405  43.255680  1775300\n",
      "2016-01-08  40.171318  43.451370  40.171318  43.423413  5116900\n",
      "Successfully downloaded data for Mercedes (DMLRY)\n",
      "Successfully downloaded data for Ferrari (RACE)\n",
      "Error downloading data for Red Bull (None): 'NoneType' object has no attribute 'replace'\n",
      "Error downloading data for McLaren (None): 'NoneType' object has no attribute 'replace'\n"
     ]
    },
    {
     "name": "stderr",
     "output_type": "stream",
     "text": [
      "[*********************100%***********************]  1 of 1 completed\n",
      "[*********************100%***********************]  1 of 1 completed\n"
     ]
    },
    {
     "name": "stdout",
     "output_type": "stream",
     "text": [
      "Successfully downloaded data for Alpine (RNSDF)\n",
      "Successfully downloaded data for Aston Martin (AML.L)\n",
      "Error downloading data for Williams (None): 'NoneType' object has no attribute 'replace'\n",
      "Error downloading data for AlphaTauri (None): 'NoneType' object has no attribute 'replace'\n"
     ]
    },
    {
     "name": "stderr",
     "output_type": "stream",
     "text": [
      "[*********************100%***********************]  1 of 1 completed"
     ]
    },
    {
     "name": "stdout",
     "output_type": "stream",
     "text": [
      "Successfully downloaded data for Alfa Romeo (STLA)\n",
      "Error downloading data for Haas (None): 'NoneType' object has no attribute 'replace'\n"
     ]
    },
    {
     "name": "stderr",
     "output_type": "stream",
     "text": [
      "\n"
     ]
    }
   ],
   "source": [
    "import yfinance as yf\n",
    "from datetime import datetime, timedelta\n",
    "\n",
    "# Function to get stock data for a specific ticker\n",
    "def get_stock_data(ticker, start_date, end_date):\n",
    "    stock_data = yf.download(ticker, start=start_date, end=end_date)\n",
    "    return stock_data\n",
    "\n",
    "# Example: Get Ferrari stock data from 2016 (IPO) to present\n",
    "ferrari_stock = get_stock_data('RACE', '2016-01-01', datetime.now().strftime('%Y-%m-%d'))\n",
    "print(\"Ferrari stock data preview:\")\n",
    "print(ferrari_stock.head())\n",
    "\n",
    "# Function to get stock data for all constructors in our mapping\n",
    "def get_all_stocks_data(tickers_dict, start_date, end_date):\n",
    "    stock_data = {}\n",
    "    for constructor, ticker in tickers_dict.items():\n",
    "        try:\n",
    "            data = get_stock_data(ticker, start_date, end_date)\n",
    "            stock_data[constructor] = data\n",
    "            print(f\"Successfully downloaded data for {constructor} ({ticker})\")\n",
    "        except Exception as e:\n",
    "            print(f\"Error downloading data for {constructor} ({ticker}): {e}\")\n",
    "    return stock_data\n",
    "stock_tickers = {\n",
    "    'Mercedes': 'DMLRY',       # Mercedes parent company Daimler\n",
    "    'Ferrari': 'RACE',         # Ferrari N.V.\n",
    "    'Red Bull': None,          # Private team, use parent company\n",
    "    'McLaren': None,           # Private company\n",
    "    'Alpine': 'RNSDF',         # Renault\n",
    "    'Aston Martin': 'AML.L',   # Aston Martin\n",
    "    'Williams': None,          # Private team\n",
    "    'AlphaTauri': None,        # Private team\n",
    "    'Alfa Romeo': 'STLA',      # Stellantis (parent company)\n",
    "    'Haas': None    \n",
    "}\n",
    "\n",
    "# Get data for all publicly traded constructors\n",
    "stocks_data = get_all_stocks_data(stock_tickers, '2016-01-01', datetime.now().strftime('%Y-%m-%d'))"
   ]
  },
  {
   "cell_type": "code",
   "execution_count": 36,
   "metadata": {},
   "outputs": [
    {
     "data": {
      "text/plain": [
       "{'Mercedes': Empty DataFrame\n",
       " Columns: [(Adj Close, DMLRY), (Close, DMLRY), (High, DMLRY), (Low, DMLRY), (Open, DMLRY), (Volume, DMLRY), (Team, ), (Ticker, )]\n",
       " Index: [],\n",
       " 'Ferrari': Price            Close        High         Low        Open  Volume     Team  \\\n",
       " Ticker            RACE        RACE        RACE        RACE    RACE            \n",
       " Date                                                                          \n",
       " 2019-01-02   94.720909   95.210351   93.674856   94.145100  293100  Ferrari   \n",
       " 2019-01-03   93.070244   94.903238   92.724757   94.864850  450400  Ferrari   \n",
       " 2019-01-04   98.108597   98.636419   95.258331   96.189227  524200  Ferrari   \n",
       " 2019-01-07  100.267883  101.467489   98.799559   99.154645  427500  Ferrari   \n",
       " 2019-01-08  104.202591  104.845578  103.070162  103.281294  762200  Ferrari   \n",
       " ...                ...         ...         ...         ...     ...      ...   \n",
       " 2024-12-23  430.149994  431.239990  422.290009  424.380005  225600  Ferrari   \n",
       " 2024-12-24  433.980011  434.029999  430.470001  431.079987   82600  Ferrari   \n",
       " 2024-12-26  431.739990  435.144989  431.500000  433.160004  158500  Ferrari   \n",
       " 2024-12-27  432.149994  432.720001  428.299988  429.720001  171200  Ferrari   \n",
       " 2024-12-30  426.769989  429.299988  424.945007  428.250000  150300  Ferrari   \n",
       " \n",
       " Price      Ticker  \n",
       " Ticker             \n",
       " Date               \n",
       " 2019-01-02   RACE  \n",
       " 2019-01-03   RACE  \n",
       " 2019-01-04   RACE  \n",
       " 2019-01-07   RACE  \n",
       " 2019-01-08   RACE  \n",
       " ...           ...  \n",
       " 2024-12-23   RACE  \n",
       " 2024-12-24   RACE  \n",
       " 2024-12-26   RACE  \n",
       " 2024-12-27   RACE  \n",
       " 2024-12-30   RACE  \n",
       " \n",
       " [1509 rows x 7 columns],\n",
       " 'Alpine': Price           Close       High        Low       Open Volume    Team Ticker\n",
       " Ticker          RNSDF      RNSDF      RNSDF      RNSDF  RNSDF               \n",
       " Date                                                                        \n",
       " 2019-01-02  55.599148  55.599148  55.599148  55.599148      0  Alpine  RNSDF\n",
       " 2019-01-03  55.599148  55.599148  55.599148  55.599148      0  Alpine  RNSDF\n",
       " 2019-01-04  55.599148  55.599148  55.599148  55.599148    100  Alpine  RNSDF\n",
       " 2019-01-07  55.599148  55.599148  55.599148  55.599148    100  Alpine  RNSDF\n",
       " 2019-01-08  57.489338  57.489338  57.489338  57.489338   1400  Alpine  RNSDF\n",
       " ...               ...        ...        ...        ...    ...     ...    ...\n",
       " 2024-12-23  48.599998  48.599998  48.599998  48.599998      0  Alpine  RNSDF\n",
       " 2024-12-24  48.599998  48.599998  48.599998  48.599998      0  Alpine  RNSDF\n",
       " 2024-12-26  48.599998  48.599998  48.599998  48.599998      0  Alpine  RNSDF\n",
       " 2024-12-27  48.599998  48.599998  48.599998  48.599998      0  Alpine  RNSDF\n",
       " 2024-12-30  48.599998  48.599998  48.599998  48.599998      0  Alpine  RNSDF\n",
       " \n",
       " [1509 rows x 7 columns],\n",
       " 'Aston Martin': Price             Close         High          Low         Open   Volume  \\\n",
       " Ticker            AML.L        AML.L        AML.L        AML.L    AML.L   \n",
       " Date                                                                      \n",
       " 2019-01-02  2819.730713  2951.578369  2784.983887  2951.578369    59933   \n",
       " 2019-01-03  2796.407471  2860.665283  2734.529541  2798.787598   105470   \n",
       " 2019-01-04  2832.582275  2867.805176  2796.407471  2832.106445    71868   \n",
       " 2019-01-07  2881.132812  2942.534668  2823.538574  2855.905518    94154   \n",
       " 2019-01-08  3033.447754  3093.897705  2855.905518  2855.905518   306860   \n",
       " ...                 ...          ...          ...          ...      ...   \n",
       " 2024-12-20   104.800003   105.400002   101.793999   103.500000  1930643   \n",
       " 2024-12-23   102.800003   104.699997   101.199997   103.900002  1614537   \n",
       " 2024-12-24   104.699997   106.599998   103.099998   103.400002   791504   \n",
       " 2024-12-27   105.800003   106.000000   104.300003   105.000000  1116410   \n",
       " 2024-12-30   104.300003   105.500000   102.400002   104.800003  1111106   \n",
       " \n",
       " Price               Team Ticker  \n",
       " Ticker                           \n",
       " Date                             \n",
       " 2019-01-02  Aston Martin  AML.L  \n",
       " 2019-01-03  Aston Martin  AML.L  \n",
       " 2019-01-04  Aston Martin  AML.L  \n",
       " 2019-01-07  Aston Martin  AML.L  \n",
       " 2019-01-08  Aston Martin  AML.L  \n",
       " ...                  ...    ...  \n",
       " 2024-12-20  Aston Martin  AML.L  \n",
       " 2024-12-23  Aston Martin  AML.L  \n",
       " 2024-12-24  Aston Martin  AML.L  \n",
       " 2024-12-27  Aston Martin  AML.L  \n",
       " 2024-12-30  Aston Martin  AML.L  \n",
       " \n",
       " [1514 rows x 7 columns],\n",
       " 'Alfa Romeo': Price           Close       High        Low       Open    Volume        Team  \\\n",
       " Ticker           STLA       STLA       STLA       STLA      STLA               \n",
       " Date                                                                           \n",
       " 2019-01-02   8.348601   8.395209   8.162171   8.173822   5193200  Alfa Romeo   \n",
       " 2019-01-03   8.220431   8.395210   8.191302   8.377733   3522700  Alfa Romeo   \n",
       " 2019-01-04   8.733114   8.768070   8.529206   8.575814  13734800  Alfa Romeo   \n",
       " 2019-01-07   8.843807   8.896241   8.709810   8.768070   3399400  Alfa Romeo   \n",
       " 2019-01-08   8.937023   9.123454   8.907893   9.105976   3505100  Alfa Romeo   \n",
       " ...               ...        ...        ...        ...       ...         ...   \n",
       " 2024-12-23  12.910000  12.920000  12.720000  12.730000   5567500  Alfa Romeo   \n",
       " 2024-12-24  13.070000  13.070000  12.890000  12.910000   1991100  Alfa Romeo   \n",
       " 2024-12-26  13.020000  13.140000  12.970000  13.000000   4528900  Alfa Romeo   \n",
       " 2024-12-27  13.070000  13.170000  13.020000  13.040000   5267900  Alfa Romeo   \n",
       " 2024-12-30  13.040000  13.130000  12.980000  13.110000   8086800  Alfa Romeo   \n",
       " \n",
       " Price      Ticker  \n",
       " Ticker             \n",
       " Date               \n",
       " 2019-01-02   STLA  \n",
       " 2019-01-03   STLA  \n",
       " 2019-01-04   STLA  \n",
       " 2019-01-07   STLA  \n",
       " 2019-01-08   STLA  \n",
       " ...           ...  \n",
       " 2024-12-23   STLA  \n",
       " 2024-12-24   STLA  \n",
       " 2024-12-26   STLA  \n",
       " 2024-12-27   STLA  \n",
       " 2024-12-30   STLA  \n",
       " \n",
       " [1509 rows x 7 columns]}"
      ]
     },
     "execution_count": 36,
     "metadata": {},
     "output_type": "execute_result"
    }
   ],
   "source": [
    "stock_data"
   ]
  },
  {
   "cell_type": "code",
   "execution_count": 11,
   "metadata": {},
   "outputs": [
    {
     "name": "stdout",
     "output_type": "stream",
     "text": [
      "Collecting stock data for Mercedes (DMLRY)...\n"
     ]
    },
    {
     "name": "stderr",
     "output_type": "stream",
     "text": [
      "[*********************100%***********************]  1 of 1 completed\n",
      "\n",
      "1 Failed download:\n",
      "['DMLRY']: YFTzMissingError('possibly delisted; no timezone found')\n",
      "[*********************100%***********************]  1 of 1 completed\n",
      "[*********************100%***********************]  1 of 1 completed\n",
      "[*********************100%***********************]  1 of 1 completed\n",
      "[*********************100%***********************]  1 of 1 completed"
     ]
    },
    {
     "name": "stdout",
     "output_type": "stream",
     "text": [
      "Collecting stock data for Ferrari (RACE)...\n",
      "Collecting stock data for Alpine (RNSDF)...\n",
      "Collecting stock data for Aston Martin (AML.L)...\n",
      "Collecting stock data for Alfa Romeo (STLA)...\n"
     ]
    },
    {
     "name": "stderr",
     "output_type": "stream",
     "text": [
      "\n"
     ]
    }
   ],
   "source": [
    "# Define F1 teams and their corresponding stock tickers\n",
    "team_tickers = {\n",
    "    'Mercedes': 'DMLRY',       # Mercedes parent company Daimler\n",
    "    'Ferrari': 'RACE',         # Ferrari N.V.\n",
    "    'Red Bull': None,          # Private team, use parent company\n",
    "    'McLaren': None,           # Private company\n",
    "    'Alpine': 'RNSDF',         # Renault\n",
    "    'Aston Martin': 'AML.L',   # Aston Martin\n",
    "    'Williams': None,          # Private team\n",
    "    'AlphaTauri': None,        # Private team\n",
    "    'Alfa Romeo': 'STLA',      # Stellantis (parent company)\n",
    "    'Haas': None               # Private team\n",
    "}\n",
    "\n",
    "# Filter to only publicly traded companies\n",
    "public_teams = {k: v for k, v in team_tickers.items() if v is not None}\n",
    "\n",
    "def collect_stock_data(team_tickers, start_date, end_date):\n",
    "    \"\"\"\n",
    "    Collect stock data for F1 teams using Yahoo Finance\n",
    "    \"\"\"\n",
    "    stock_data = {}\n",
    "    \n",
    "    for team, ticker in team_tickers.items():\n",
    "        if ticker:\n",
    "            try:\n",
    "                print(f\"Collecting stock data for {team} ({ticker})...\")\n",
    "                data = yf.download(ticker, start=start_date, end=end_date)\n",
    "                data['Team'] = team\n",
    "                data['Ticker'] = ticker\n",
    "                stock_data[team] = data\n",
    "            except Exception as e:\n",
    "                print(f\"Error collecting data for {team} ({ticker}): {e}\")\n",
    "    \n",
    "    return stock_data\n",
    "\n",
    "# Set date range - use one year before F1 data to have enough estimation window\n",
    "start_date = '2019-01-01'\n",
    "end_date = '2024-12-31'\n",
    "\n",
    "# Collect stock data\n",
    "stock_data = collect_stock_data(public_teams, start_date, end_date)\n",
    "\n",
    "# Combine all stock data into a single DataFrame\n",
    "combined_stock_data = pd.concat([df for df in stock_data.values()])\n",
    "combined_stock_data.reset_index(inplace=True)\n",
    "combined_stock_data.rename(columns={'index': 'Date'}, inplace=True)"
   ]
  },
  {
   "cell_type": "code",
   "execution_count": 13,
   "metadata": {},
   "outputs": [
    {
     "ename": "KeyError",
     "evalue": "'EventDate'",
     "output_type": "error",
     "traceback": [
      "\u001b[0;31m---------------------------------------------------------------------------\u001b[0m",
      "\u001b[0;31mKeyError\u001b[0m                                  Traceback (most recent call last)",
      "File \u001b[0;32m~/Documents/IDS/cap5771sp25-project/.venv/lib/python3.9/site-packages/pandas/core/indexes/base.py:3653\u001b[0m, in \u001b[0;36mIndex.get_loc\u001b[0;34m(self, key)\u001b[0m\n\u001b[1;32m   3652\u001b[0m \u001b[38;5;28;01mtry\u001b[39;00m:\n\u001b[0;32m-> 3653\u001b[0m     \u001b[38;5;28;01mreturn\u001b[39;00m \u001b[38;5;28;43mself\u001b[39;49m\u001b[38;5;241;43m.\u001b[39;49m\u001b[43m_engine\u001b[49m\u001b[38;5;241;43m.\u001b[39;49m\u001b[43mget_loc\u001b[49m\u001b[43m(\u001b[49m\u001b[43mcasted_key\u001b[49m\u001b[43m)\u001b[49m\n\u001b[1;32m   3654\u001b[0m \u001b[38;5;28;01mexcept\u001b[39;00m \u001b[38;5;167;01mKeyError\u001b[39;00m \u001b[38;5;28;01mas\u001b[39;00m err:\n",
      "File \u001b[0;32m~/Documents/IDS/cap5771sp25-project/.venv/lib/python3.9/site-packages/pandas/_libs/index.pyx:147\u001b[0m, in \u001b[0;36mpandas._libs.index.IndexEngine.get_loc\u001b[0;34m()\u001b[0m\n",
      "File \u001b[0;32m~/Documents/IDS/cap5771sp25-project/.venv/lib/python3.9/site-packages/pandas/_libs/index.pyx:176\u001b[0m, in \u001b[0;36mpandas._libs.index.IndexEngine.get_loc\u001b[0;34m()\u001b[0m\n",
      "File \u001b[0;32mpandas/_libs/hashtable_class_helper.pxi:7080\u001b[0m, in \u001b[0;36mpandas._libs.hashtable.PyObjectHashTable.get_item\u001b[0;34m()\u001b[0m\n",
      "File \u001b[0;32mpandas/_libs/hashtable_class_helper.pxi:7088\u001b[0m, in \u001b[0;36mpandas._libs.hashtable.PyObjectHashTable.get_item\u001b[0;34m()\u001b[0m\n",
      "\u001b[0;31mKeyError\u001b[0m: 'EventDate'",
      "\nThe above exception was the direct cause of the following exception:\n",
      "\u001b[0;31mKeyError\u001b[0m                                  Traceback (most recent call last)",
      "Cell \u001b[0;32mIn[13], line 65\u001b[0m\n\u001b[1;32m     62\u001b[0m     \u001b[38;5;28;01mreturn\u001b[39;00m aligned_data\n\u001b[1;32m     64\u001b[0m \u001b[38;5;66;03m# Align F1 race data with stock data\u001b[39;00m\n\u001b[0;32m---> 65\u001b[0m aligned_data \u001b[38;5;241m=\u001b[39m \u001b[43malign_race_stock_data\u001b[49m\u001b[43m(\u001b[49m\u001b[43mall_races\u001b[49m\u001b[43m,\u001b[49m\u001b[43m \u001b[49m\u001b[43mall_results\u001b[49m\u001b[43m,\u001b[49m\u001b[43m \u001b[49m\u001b[43mstock_data\u001b[49m\u001b[43m)\u001b[49m\n",
      "Cell \u001b[0;32mIn[13], line 10\u001b[0m, in \u001b[0;36malign_race_stock_data\u001b[0;34m(races_df, results_df, stock_data)\u001b[0m\n\u001b[1;32m      8\u001b[0m \u001b[38;5;66;03m# Process each race\u001b[39;00m\n\u001b[1;32m      9\u001b[0m \u001b[38;5;28;01mfor\u001b[39;00m _, race \u001b[38;5;129;01min\u001b[39;00m races_df\u001b[38;5;241m.\u001b[39miterrows():\n\u001b[0;32m---> 10\u001b[0m     race_date \u001b[38;5;241m=\u001b[39m \u001b[43mrace\u001b[49m\u001b[43m[\u001b[49m\u001b[38;5;124;43m'\u001b[39;49m\u001b[38;5;124;43mEventDate\u001b[39;49m\u001b[38;5;124;43m'\u001b[39;49m\u001b[43m]\u001b[49m\n\u001b[1;32m     11\u001b[0m     race_name \u001b[38;5;241m=\u001b[39m race[\u001b[38;5;124m'\u001b[39m\u001b[38;5;124mEventName\u001b[39m\u001b[38;5;124m'\u001b[39m]\n\u001b[1;32m     12\u001b[0m     race_year \u001b[38;5;241m=\u001b[39m race[\u001b[38;5;124m'\u001b[39m\u001b[38;5;124myear\u001b[39m\u001b[38;5;124m'\u001b[39m]\n",
      "File \u001b[0;32m~/Documents/IDS/cap5771sp25-project/.venv/lib/python3.9/site-packages/pandas/core/series.py:1007\u001b[0m, in \u001b[0;36mSeries.__getitem__\u001b[0;34m(self, key)\u001b[0m\n\u001b[1;32m   1004\u001b[0m     \u001b[38;5;28;01mreturn\u001b[39;00m \u001b[38;5;28mself\u001b[39m\u001b[38;5;241m.\u001b[39m_values[key]\n\u001b[1;32m   1006\u001b[0m \u001b[38;5;28;01melif\u001b[39;00m key_is_scalar:\n\u001b[0;32m-> 1007\u001b[0m     \u001b[38;5;28;01mreturn\u001b[39;00m \u001b[38;5;28;43mself\u001b[39;49m\u001b[38;5;241;43m.\u001b[39;49m\u001b[43m_get_value\u001b[49m\u001b[43m(\u001b[49m\u001b[43mkey\u001b[49m\u001b[43m)\u001b[49m\n\u001b[1;32m   1009\u001b[0m \u001b[38;5;28;01mif\u001b[39;00m is_hashable(key):\n\u001b[1;32m   1010\u001b[0m     \u001b[38;5;66;03m# Otherwise index.get_value will raise InvalidIndexError\u001b[39;00m\n\u001b[1;32m   1011\u001b[0m     \u001b[38;5;28;01mtry\u001b[39;00m:\n\u001b[1;32m   1012\u001b[0m         \u001b[38;5;66;03m# For labels that don't resolve as scalars like tuples and frozensets\u001b[39;00m\n",
      "File \u001b[0;32m~/Documents/IDS/cap5771sp25-project/.venv/lib/python3.9/site-packages/pandas/core/series.py:1116\u001b[0m, in \u001b[0;36mSeries._get_value\u001b[0;34m(self, label, takeable)\u001b[0m\n\u001b[1;32m   1113\u001b[0m     \u001b[38;5;28;01mreturn\u001b[39;00m \u001b[38;5;28mself\u001b[39m\u001b[38;5;241m.\u001b[39m_values[label]\n\u001b[1;32m   1115\u001b[0m \u001b[38;5;66;03m# Similar to Index.get_value, but we do not fall back to positional\u001b[39;00m\n\u001b[0;32m-> 1116\u001b[0m loc \u001b[38;5;241m=\u001b[39m \u001b[38;5;28;43mself\u001b[39;49m\u001b[38;5;241;43m.\u001b[39;49m\u001b[43mindex\u001b[49m\u001b[38;5;241;43m.\u001b[39;49m\u001b[43mget_loc\u001b[49m\u001b[43m(\u001b[49m\u001b[43mlabel\u001b[49m\u001b[43m)\u001b[49m\n\u001b[1;32m   1118\u001b[0m \u001b[38;5;28;01mif\u001b[39;00m is_integer(loc):\n\u001b[1;32m   1119\u001b[0m     \u001b[38;5;28;01mreturn\u001b[39;00m \u001b[38;5;28mself\u001b[39m\u001b[38;5;241m.\u001b[39m_values[loc]\n",
      "File \u001b[0;32m~/Documents/IDS/cap5771sp25-project/.venv/lib/python3.9/site-packages/pandas/core/indexes/base.py:3655\u001b[0m, in \u001b[0;36mIndex.get_loc\u001b[0;34m(self, key)\u001b[0m\n\u001b[1;32m   3653\u001b[0m     \u001b[38;5;28;01mreturn\u001b[39;00m \u001b[38;5;28mself\u001b[39m\u001b[38;5;241m.\u001b[39m_engine\u001b[38;5;241m.\u001b[39mget_loc(casted_key)\n\u001b[1;32m   3654\u001b[0m \u001b[38;5;28;01mexcept\u001b[39;00m \u001b[38;5;167;01mKeyError\u001b[39;00m \u001b[38;5;28;01mas\u001b[39;00m err:\n\u001b[0;32m-> 3655\u001b[0m     \u001b[38;5;28;01mraise\u001b[39;00m \u001b[38;5;167;01mKeyError\u001b[39;00m(key) \u001b[38;5;28;01mfrom\u001b[39;00m\u001b[38;5;250m \u001b[39m\u001b[38;5;21;01merr\u001b[39;00m\n\u001b[1;32m   3656\u001b[0m \u001b[38;5;28;01mexcept\u001b[39;00m \u001b[38;5;167;01mTypeError\u001b[39;00m:\n\u001b[1;32m   3657\u001b[0m     \u001b[38;5;66;03m# If we have a listlike key, _check_indexing_error will raise\u001b[39;00m\n\u001b[1;32m   3658\u001b[0m     \u001b[38;5;66;03m#  InvalidIndexError. Otherwise we fall through and re-raise\u001b[39;00m\n\u001b[1;32m   3659\u001b[0m     \u001b[38;5;66;03m#  the TypeError.\u001b[39;00m\n\u001b[1;32m   3660\u001b[0m     \u001b[38;5;28mself\u001b[39m\u001b[38;5;241m.\u001b[39m_check_indexing_error(key)\n",
      "\u001b[0;31mKeyError\u001b[0m: 'EventDate'"
     ]
    }
   ],
   "source": [
    "def align_race_stock_data(races_df, results_df, stock_data):\n",
    "    \"\"\"\n",
    "    Align race events with corresponding stock data\n",
    "    \"\"\"\n",
    "    # Create a DataFrame to store aligned data\n",
    "    aligned_data = pd.DataFrame()\n",
    "    \n",
    "    # Process each race\n",
    "    for _, race in races_df.iterrows():\n",
    "        race_date = race['EventDate']\n",
    "        race_name = race['EventName']\n",
    "        race_year = race['year']\n",
    "        \n",
    "        # Get race results for this race\n",
    "        race_results = results_df[(results_df['event'] == race_name) & \n",
    "                                  (results_df['year'] == race_year)]\n",
    "        \n",
    "        # For each team with stock data\n",
    "        for team, ticker_data in stock_data.items():\n",
    "            # Check if team participated in this race\n",
    "            team_result = race_results[race_results['TeamName'] == team]\n",
    "            \n",
    "            if not team_result.empty:\n",
    "                # Convert race date to datetime\n",
    "                race_datetime = pd.to_datetime(race_date)\n",
    "                \n",
    "                # Find nearest trading days (some races are on weekends when markets are closed)\n",
    "                # Pre-race trading day (last trading day before race)\n",
    "                pre_race_data = ticker_data[ticker_data['Date'] < race_datetime].sort_values('Date').tail(5)\n",
    "                \n",
    "                # Post-race trading days (first trading days after race)\n",
    "                post_race_data = ticker_data[ticker_data['Date'] > race_datetime].sort_values('Date').head(5)\n",
    "                \n",
    "                if not pre_race_data.empty and not post_race_data.empty:\n",
    "                    # Extract race results\n",
    "                    position = team_result['Position'].values[0] if 'Position' in team_result.columns else None\n",
    "                    points = team_result['Points'].values[0] if 'Points' in team_result.columns else None\n",
    "                    \n",
    "                    # Create event records\n",
    "                    for i, post_day in enumerate(post_race_data['Date']):\n",
    "                        if i < len(post_race_data):\n",
    "                            event_data = {\n",
    "                                'Race': race_name,\n",
    "                                'Year': race_year,\n",
    "                                'RaceDate': race_datetime,\n",
    "                                'Team': team,\n",
    "                                'TradingDay': post_day,\n",
    "                                'DaysAfterRace': i+1,\n",
    "                                'Position': position,\n",
    "                                'Points': points,\n",
    "                                'Open': post_race_data.iloc[i]['Open'],\n",
    "                                'High': post_race_data.iloc[i]['High'],\n",
    "                                'Low': post_race_data.iloc[i]['Low'],\n",
    "                                'Close': post_race_data.iloc[i]['Close'],\n",
    "                                'Volume': post_race_data.iloc[i]['Volume'],\n",
    "                                'Adj Close': post_race_data.iloc[i]['Adj Close']\n",
    "                            }\n",
    "                            aligned_data = pd.concat([aligned_data, pd.DataFrame([event_data])])\n",
    "    \n",
    "    # Reset index\n",
    "    aligned_data.reset_index(drop=True, inplace=True)\n",
    "    return aligned_data\n",
    "\n",
    "# Align F1 race data with stock data\n",
    "aligned_data = align_race_stock_data(all_races, all_results, stock_data)"
   ]
  }
 ],
 "metadata": {
  "kernelspec": {
   "display_name": ".venv",
   "language": "python",
   "name": "python3"
  },
  "language_info": {
   "codemirror_mode": {
    "name": "ipython",
    "version": 3
   },
   "file_extension": ".py",
   "mimetype": "text/x-python",
   "name": "python",
   "nbconvert_exporter": "python",
   "pygments_lexer": "ipython3",
   "version": "3.9.6"
  }
 },
 "nbformat": 4,
 "nbformat_minor": 2
}
