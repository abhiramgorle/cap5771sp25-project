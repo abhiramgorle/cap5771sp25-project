{
 "cells": [
  {
   "cell_type": "code",
   "execution_count": null,
   "metadata": {},
   "outputs": [],
   "source": [
    "from alpaca.data.historical import StockHistoricalDataClient\n",
    "from alpaca.data.requests import StockBarsRequest\n",
    "from alpaca.data.timeframe import TimeFrame\n",
    "from datetime import datetime\n",
    "\n",
    "# Initialize client with your API keys\n",
    "client = StockHistoricalDataClient(\"PKRLIC1E44AIEANOH8IF\", \"3nY6beHiUmlbaDAjTIG1WfbeDECDSwH4pqKPhCra\")\n",
    "\n",
    "# Define the specific day and time you want\n",
    "# Update the specific date to a weekday during market hours\n",
    "specific_date = datetime(2025, 2, 3, 2, 30)  # Friday, 10:30 AM\n",
    "end_date = datetime(2025, 2, 3, 2, 31)  # Add 1 minute to get just that specific minute\n",
    "\n",
    "# Update request parameters\n",
    "request_params = StockBarsRequest(\n",
    "    symbol_or_symbols=\"NVDA\",  # NVIDIA's ticker symbol\n",
    "    timeframe=TimeFrame.Minute,\n",
    "    start=specific_date,\n",
    "    end=end_date\n",
    ")\n",
    "\n",
    "# Fetch the data again\n",
    "bars = client.get_stock_bars(request_params)\n",
    "\n",
    "# Check and print the data\n",
    "specific_bar = bars[\"NVDA\"][0]\n",
    "print(f\"Ferrari stock price at {specific_date}:\")\n",
    "print(f\"Open: ${specific_bar.o}\")\n",
    "print(f\"High: ${specific_bar.h}\")\n",
    "print(f\"Low: ${specific_bar.l}\")\n",
    "print(f\"Close: ${specific_bar.c}\")\n",
    "print(f\"Volume: {specific_bar.v}\")\n"
   ]
  }
 ],
 "metadata": {
  "kernelspec": {
   "display_name": ".venv",
   "language": "python",
   "name": "python3"
  },
  "language_info": {
   "codemirror_mode": {
    "name": "ipython",
    "version": 3
   },
   "file_extension": ".py",
   "mimetype": "text/x-python",
   "name": "python",
   "nbconvert_exporter": "python",
   "pygments_lexer": "ipython3",
   "version": "3.9.6"
  }
 },
 "nbformat": 4,
 "nbformat_minor": 2
}
